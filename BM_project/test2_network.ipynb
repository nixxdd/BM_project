{
 "cells": [
  {
   "cell_type": "code",
   "execution_count": null,
   "metadata": {
    "vscode": {
     "languageId": "plaintext"
    }
   },
   "outputs": [],
   "source": [
    "import nest\n",
    "import numpy as np\n",
    "import matplotlib.pyplot as plt\n",
    "nest.ResetKernel()"
   ]
  },
  {
   "cell_type": "code",
   "execution_count": null,
   "metadata": {
    "vscode": {
     "languageId": "plaintext"
    }
   },
   "outputs": [],
   "source": [
    "import nest\n",
    "import matplotlib.pyplot as plt\n",
    "\n",
    "def create_populations():\n",
    "    E_neuron_params = {\n",
    "        \"E_L\": 0.0,\n",
    "        \"C_m\": 1.0,\n",
    "        \"V_T\": -63.0,\n",
    "        \"t_ref\": 5.0,\n",
    "        \"tau_syn_ex\": 5.0,\n",
    "        \"tau_syn_in\": 5.0,\n",
    "        \"g_L\": 0.3\n",
    "    }\n",
    "\n",
    "    pop_size_E = 10\n",
    "    pop_size_I = 10\n",
    "\n",
    "    E_pops = nest.Create(\"hh_cond_exp_traub\", n=pop_size_E, params=E_neuron_params)\n",
    "    I_pops = nest.Create(\"hh_cond_exp_traub\", n=pop_size_I, params=E_neuron_params)\n",
    "\n",
    "    return E_pops, I_pops\n",
    "\n",
    "def connect_pop():\n",
    "    E_pops, I_pops = create_populations()\n",
    "    syn_dict = {\"synapse_model\": \"stdp_synapse\", \"weight\": 1.0, \"delay\": 1.0}\n",
    "    \n",
    "    nest.Connect(E_pops, E_pops, \"all_to_all\", syn_spec=syn_dict)\n",
    "    nest.Connect(I_pops, E_pops, \"all_to_all\", syn_spec=syn_dict)\n",
    "    nest.Connect(E_pops, I_pops, \"all_to_all\", syn_spec=syn_dict)\n",
    "    nest.Connect(I_pops, I_pops, \"all_to_all\", syn_spec=syn_dict)\n",
    "\n",
    "    return E_pops, I_pops\n",
    "\n",
    "def prune(threshold=0.5):\n",
    "    \"\"\"\n",
    "    Prunes synapses with weights below a given threshold.\n",
    "    \"\"\"\n",
    "    connections = nest.GetConnections()\n",
    "    connection_details = nest.GetStatus(connections, keys=[\"source\", \"target\", \"weight\"])\n",
    "    print(connection_details)\n",
    "\n",
    "    # connections_to_prune = [conn for conn in connection_details if conn[2] < threshold]\n",
    "    # print(connections_to_prune)\n",
    "    # for conn in connections_to_prune:\n",
    "        # nest.Disconnect([conn[0]], [conn[1]])\n",
    "\n",
    "    # print(f\"Pruned {len(connections_to_prune)}\")\n",
    "\n",
    "def create_thalamic_input(E_pops):\n",
    "    thalamic_input = nest.Create(\"poisson_generator\", params={\"rate\": 500.0})  \n",
    "    nest.Connect(thalamic_input, E_pops, syn_spec={\"weight\": 1.0, \"delay\": 1.0})\n",
    "    \n",
    "\n",
    "def recording_devices(E_pops, I_pops):\n",
    "    multimeter = nest.Create(\"multimeter\", params={\"record_from\": [\"V_m\"]})\n",
    "    spikerecorder = nest.Create(\"spike_recorder\")\n",
    "    all_neurons = E_pops + I_pops\n",
    "    nest.Connect(multimeter, all_neurons)\n",
    "    nest.Connect(all_neurons, spikerecorder)\n",
    "    return multimeter, spikerecorder\n",
    "\n",
    "def plot_spikes(multimeter):\n",
    "    mm = nest.GetStatus(multimeter)[0]\n",
    "    if \"events\" in mm and len(mm[\"events\"][\"V_m\"]) > 0:\n",
    "        Vms = mm[\"events\"][\"V_m\"]\n",
    "        ts = mm[\"events\"][\"times\"]\n",
    "\n",
    "        plt.figure()\n",
    "        plt.plot(ts, Vms)\n",
    "        plt.xlabel(\"Time (ms)\")\n",
    "        plt.ylabel(\"Membrane potential (mV)\")\n",
    "        plt.title(\"Membrane potential over time\")\n",
    "        plt.show()\n",
    "    else:\n",
    "        print(\"No membrane potential events recorded.\")\n",
    "\n",
    "def log_weights(time):\n",
    "    connections = nest.GetConnections()\n",
    "    connection_details = nest.GetStatus(connections, keys=[\"source\", \"target\", \"weight\"])\n",
    "    print(f\"Weights at time {time} ms:\")\n",
    "    for conn in connection_details:\n",
    "        print(f\"Source: {conn[0]}, Target: {conn[1]}, Weight: {conn[2]}\")\n",
    "\n",
    "def create_and_simulate():\n",
    "    E_pops, I_pops = connect_pop()\n",
    "    create_thalamic_input(E_pops)\n",
    "    # prune(threshold=0.5) \n",
    "    multimeter, spikerecorder = recording_devices(E_pops, I_pops)\n",
    "    \n",
    "    log_weights(0)\n",
    "    \n",
    "    simulation_steps = [10.0, 20.0, 30.0, 40.0, 50.0]\n",
    "    for step in simulation_steps:\n",
    "        nest.Simulate(step)\n",
    "        log_weights(step)\n",
    "    \n",
    "    plot_spikes(multimeter)\n",
    "\n",
    "\n"
   ]
  },
  {
   "cell_type": "code",
   "execution_count": null,
   "metadata": {
    "vscode": {
     "languageId": "plaintext"
    }
   },
   "outputs": [],
   "source": [
    "create_and_simulate()"
   ]
  }
 ],
 "metadata": {
  "language_info": {
   "name": "python"
  }
 },
 "nbformat": 4,
 "nbformat_minor": 2
}
