{
  "nbformat": 4,
  "nbformat_minor": 0,
  "metadata": {
    "colab": {
      "provenance": []
    },
    "kernelspec": {
      "name": "python3",
      "display_name": "Python 3"
    },
    "language_info": {
      "name": "python"
    }
  },
  "cells": [
    {
      "cell_type": "code",
      "execution_count": 11,
      "metadata": {
        "colab": {
          "base_uri": "https://localhost:8080/"
        },
        "collapsed": true,
        "id": "SxAWiNIqd00h",
        "outputId": "e431a410-9713-4d1b-e4d5-afa5d36bd601"
      },
      "outputs": [
        {
          "output_type": "stream",
          "name": "stdout",
          "text": [
            "✨🍰✨ Everything looks OK!\n"
          ]
        }
      ],
      "source": [
        "!pip install -q condacolab\n",
        "import condacolab\n",
        "condacolab.install()"
      ]
    },
    {
      "cell_type": "code",
      "source": [
        "!conda install -c conda-forge nest-simulator\n",
        "!conda install -c conda-forge matplotlib"
      ],
      "metadata": {
        "colab": {
          "base_uri": "https://localhost:8080/"
        },
        "collapsed": true,
        "id": "R3MblCsxeAd8",
        "outputId": "23494f85-0dfa-4e5f-ac18-6587c1ebf066"
      },
      "execution_count": 12,
      "outputs": [
        {
          "output_type": "stream",
          "name": "stdout",
          "text": [
            "Channels:\n",
            " - conda-forge\n",
            "Platform: linux-64\n",
            "Collecting package metadata (repodata.json): - \b\b\\ \b\b| \b\b/ \b\b- \b\b\\ \b\b| \b\b/ \b\b- \b\b\\ \b\b| \b\b/ \b\b- \b\b\\ \b\b| \b\b/ \b\b- \b\b\\ \b\b| \b\b/ \b\b- \b\b\\ \b\b| \b\b/ \b\b- \b\b\\ \b\b| \b\b/ \b\b- \b\b\\ \b\b| \b\b/ \b\b- \b\b\\ \b\b| \b\b/ \b\b- \b\b\\ \b\b| \b\b/ \b\b- \b\b\\ \b\b| \b\b/ \b\b- \b\b\\ \b\b| \b\b/ \b\b- \b\b\\ \b\b| \b\b/ \b\b- \b\b\\ \b\b| \b\b/ \b\b- \b\b\\ \b\b| \b\b/ \b\b- \b\b\\ \b\b| \b\b/ \b\b- \b\b\\ \b\b| \b\b/ \b\b- \b\b\\ \b\b| \b\b/ \b\b- \b\b\\ \b\b| \b\b/ \b\b- \b\b\\ \b\b| \b\b/ \b\b- \b\b\\ \b\b| \b\b/ \b\b- \b\b\\ \b\b| \b\b/ \b\b- \b\b\\ \b\b| \b\b/ \b\b- \b\b\\ \b\b| \b\b/ \b\b- \b\b\\ \b\b| \b\b/ \b\b- \b\b\\ \b\b| \b\b/ \b\b- \b\b\\ \b\b| \b\b/ \b\b- \b\b\\ \b\b| \b\b/ \b\b- \b\b\\ \b\b| \b\b/ \b\b- \b\b\\ \b\bdone\n",
            "Solving environment: / \b\b- \b\b\\ \b\b| \b\b/ \b\b- \b\b\\ \b\b| \b\b/ \b\bdone\n",
            "\n",
            "\n",
            "==> WARNING: A newer version of conda exists. <==\n",
            "    current version: 23.11.0\n",
            "    latest version: 24.11.2\n",
            "\n",
            "Please update conda by running\n",
            "\n",
            "    $ conda update -n base -c conda-forge conda\n",
            "\n",
            "\n",
            "\n",
            "# All requested packages already installed.\n",
            "\n",
            "Channels:\n",
            " - conda-forge\n",
            "Platform: linux-64\n",
            "Collecting package metadata (repodata.json): - \b\b\\ \b\b| \b\b/ \b\b- \b\b\\ \b\b| \b\b/ \b\b- \b\b\\ \b\b| \b\b/ \b\b- \b\b\\ \b\b| \b\b/ \b\b- \b\b\\ \b\bdone\n",
            "Solving environment: / \b\b- \b\b\\ \b\b| \b\b/ \b\b- \b\b\\ \b\b| \b\bdone\n",
            "\n",
            "\n",
            "==> WARNING: A newer version of conda exists. <==\n",
            "    current version: 23.11.0\n",
            "    latest version: 24.11.2\n",
            "\n",
            "Please update conda by running\n",
            "\n",
            "    $ conda update -n base -c conda-forge conda\n",
            "\n",
            "\n",
            "\n",
            "# All requested packages already installed.\n",
            "\n"
          ]
        }
      ]
    },
    {
      "cell_type": "code",
      "source": [
        "!pip install networkx matplotlib"
      ],
      "metadata": {
        "colab": {
          "base_uri": "https://localhost:8080/"
        },
        "collapsed": true,
        "id": "vzXHG8iyhi_3",
        "outputId": "74e3555f-e813-4a51-a903-079e8451223f"
      },
      "execution_count": 13,
      "outputs": [
        {
          "output_type": "stream",
          "name": "stdout",
          "text": [
            "Requirement already satisfied: networkx in /usr/local/lib/python3.10/site-packages (3.4.2)\n",
            "Requirement already satisfied: matplotlib in /usr/local/lib/python3.10/site-packages (3.10.0)\n",
            "Requirement already satisfied: contourpy>=1.0.1 in /usr/local/lib/python3.10/site-packages (from matplotlib) (1.3.1)\n",
            "Requirement already satisfied: cycler>=0.10 in /usr/local/lib/python3.10/site-packages (from matplotlib) (0.12.1)\n",
            "Requirement already satisfied: fonttools>=4.22.0 in /usr/local/lib/python3.10/site-packages (from matplotlib) (4.55.3)\n",
            "Requirement already satisfied: kiwisolver>=1.3.1 in /usr/local/lib/python3.10/site-packages (from matplotlib) (1.4.7)\n",
            "Requirement already satisfied: numpy>=1.23 in /usr/local/lib/python3.10/site-packages (from matplotlib) (1.26.4)\n",
            "Requirement already satisfied: packaging>=20.0 in /usr/local/lib/python3.10/site-packages (from matplotlib) (23.2)\n",
            "Requirement already satisfied: pillow>=8 in /usr/local/lib/python3.10/site-packages (from matplotlib) (11.0.0)\n",
            "Requirement already satisfied: pyparsing>=2.3.1 in /usr/local/lib/python3.10/site-packages (from matplotlib) (3.2.0)\n",
            "Requirement already satisfied: python-dateutil>=2.7 in /usr/local/lib/python3.10/site-packages (from matplotlib) (2.9.0.post0)\n",
            "Requirement already satisfied: six>=1.5 in /usr/local/lib/python3.10/site-packages (from python-dateutil>=2.7->matplotlib) (1.17.0)\n"
          ]
        }
      ]
    },
    {
      "cell_type": "code",
      "source": [
        "import networkx as nx\n",
        "import matplotlib.pyplot as plt"
      ],
      "metadata": {
        "id": "zlqqRnCrhOcN"
      },
      "execution_count": 14,
      "outputs": []
    },
    {
      "cell_type": "code",
      "source": [
        "!pip install pyNN"
      ],
      "metadata": {
        "colab": {
          "base_uri": "https://localhost:8080/"
        },
        "collapsed": true,
        "id": "NrC6K-_fgsyK",
        "outputId": "2b368102-c214-49a4-e08b-80f0b725949a"
      },
      "execution_count": 15,
      "outputs": [
        {
          "output_type": "stream",
          "name": "stdout",
          "text": [
            "Requirement already satisfied: pyNN in /usr/local/lib/python3.10/site-packages (0.12.3)\n",
            "Requirement already satisfied: numpy>=1.18.5 in /usr/local/lib/python3.10/site-packages (from pyNN) (1.26.4)\n",
            "Requirement already satisfied: lazyarray>=0.5.2 in /usr/local/lib/python3.10/site-packages (from pyNN) (0.6.0)\n",
            "Requirement already satisfied: neo>=0.11.0 in /usr/local/lib/python3.10/site-packages (from pyNN) (0.13.4)\n",
            "Requirement already satisfied: quantities>=0.12.1 in /usr/local/lib/python3.10/site-packages (from pyNN) (0.16.1)\n",
            "Requirement already satisfied: morphio in /usr/local/lib/python3.10/site-packages (from pyNN) (3.4.0)\n",
            "Requirement already satisfied: packaging in /usr/local/lib/python3.10/site-packages (from neo>=0.11.0->pyNN) (23.2)\n"
          ]
        }
      ]
    },
    {
      "cell_type": "code",
      "source": [
        "import numpy as np"
      ],
      "metadata": {
        "id": "NMJaf69Ll9ep"
      },
      "execution_count": 27,
      "outputs": []
    },
    {
      "cell_type": "code",
      "source": [
        "import nest\n",
        "\n",
        "# Parameters for excitatory neurons\n",
        "exc_params = {\n",
        "    'model': 'iaf_psc_alpha',\n",
        "    # 'num_neurons': 40,  # Remove this line\n",
        "    'positions': nest.spatial.free(pos=nest.random.uniform(min=-0.5, max=0.5), num_dimensions=2)\n",
        "}\n",
        "\n",
        "# Create excitatory neurons, specifying the number (n=40) separately\n",
        "exc_neurons = nest.Create(exc_params['model'], n=40, positions=exc_params['positions'])\n",
        "\n",
        "\n",
        "# Parameters for inhibitory neurons\n",
        "inh_params = {\n",
        "    'model': 'iaf_psc_alpha',\n",
        "    # 'num_neurons': 10,  # Remove this line\n",
        "    'positions': nest.spatial.free(pos=nest.random.uniform(min=-0.5, max=0.5), num_dimensions=2)\n",
        "}\n",
        "\n",
        "# Create inhibitory neurons, specifying the number (n=10) separately\n",
        "inh_neurons = nest.Create(inh_params['model'], n=10, positions=inh_params['positions'])"
      ],
      "metadata": {
        "id": "1FqUdlr6i_-9"
      },
      "execution_count": 31,
      "outputs": []
    },
    {
      "cell_type": "markdown",
      "source": [],
      "metadata": {
        "id": "LF5uWSISma0q"
      }
    },
    {
      "cell_type": "code",
      "source": [
        "exc_positions = nest.GetPosition(exc_neurons)\n",
        "exc_x_coords = [pos[0] for pos in exc_positions]\n",
        "exc_y_coords = [pos[1] for pos in exc_positions]\n",
        "\n",
        "# Get node positions for inhibitory neurons\n",
        "inh_positions = nest.GetPosition(inh_neurons)\n",
        "inh_x_coords = [pos[0] for pos in inh_positions]\n",
        "inh_y_coords = [pos[1] for pos in inh_positions]\n",
        "\n",
        "# Plot the neuron positions with different colors\n",
        "plt.figure(figsize=(6, 6))\n",
        "plt.scatter(exc_x_coords, exc_y_coords, s=50, c='blue', label='Excitatory')  # Blue for excitatory\n",
        "plt.scatter(inh_x_coords, inh_y_coords, s=50, c='red', label='Inhibitory')  # Red for inhibitory\n",
        "plt.title(\"Neuron Positions\")\n",
        "plt.xlabel(\"X Coordinate\")\n",
        "plt.ylabel(\"Y Coordinate\")\n",
        "plt.grid(True)\n",
        "plt.legend()  # Add a legend to distinguish neuron types\n",
        "plt.show()\n"
      ],
      "metadata": {
        "colab": {
          "base_uri": "https://localhost:8080/",
          "height": 564
        },
        "id": "1zLxLcMEkSk9",
        "outputId": "c36720d6-9b4c-49dc-bb3b-b2c076e931d9"
      },
      "execution_count": 33,
      "outputs": [
        {
          "output_type": "display_data",
          "data": {
            "text/plain": [
              "<Figure size 600x600 with 1 Axes>"
            ],
            "image/png": "[encoded data removed]"
          },
          "metadata": {}
        }
      ]
    },
    {
      "cell_type": "code",
      "source": [
        "conndict = {\n",
        "    \"rule\": \"pairwise_bernoulli\",\n",
        "    \"p\": nest.spatial_distributions.gaussian(nest.spatial.distance, std=1.0),\n",
        "    \"mask\": {\"circular\": {\"radius\": 4.0}},\n",
        "}\n"
      ],
      "metadata": {
        "id": "_0esmNs9kuVv"
      },
      "execution_count": 44,
      "outputs": []
    },
    {
      "source": [
        "# Assuming 'layer' from previous cell contains the desired nodes\n",
        "nest.Connect(layer, layer, conndict)"
      ],
      "cell_type": "code",
      "metadata": {
        "id": "_ffFhM78k_Mm"
      },
      "execution_count": 48,
      "outputs": []
    },
    {
      "cell_type": "code",
      "source": [
        "\n",
        "import nest\n",
        "\n",
        "# Check if NEST is initialized\n",
        "try:\n",
        "    nest.GetKernelStatus()\n",
        "    print(\"NEST is initialized and working correctly.\")\n",
        "except Exception as e:\n",
        "    print(f\"Error: NEST initialization failed. {e}\")\n",
        "\n",
        "# Check the number of nodes created\n",
        "try:\n",
        "    num_exc_neurons = len(exc_neurons)\n",
        "    num_inh_neurons = len(inh_neurons)\n",
        "    print(f\"Number of excitatory neurons: {num_exc_neurons}\")\n",
        "    print(f\"Number of inhibitory neurons: {num_inh_neurons}\")\n",
        "except NameError:\n",
        "    print(\"Error: exc_neurons or inh_neurons not defined. Please run the neuron creation code first.\")\n",
        "\n",
        "\n",
        "# Verify connections\n",
        "try:\n",
        "    connections = nest.GetConnections(layer, layer) # Assuming 'layer' is defined and contains nodes\n",
        "    num_connections = len(connections)\n",
        "    print(f\"Number of connections between nodes in 'layer': {num_connections}\")\n",
        "\n",
        "    if num_connections == 0:\n",
        "        print(\"Warning: No connections found between nodes in 'layer'. Check your connection parameters.\")\n",
        "except NameError:\n",
        "    print(\"Error: 'layer' is not defined. Please ensure the layer is correctly created.\")\n",
        "except Exception as e:\n",
        "    print(f\"Error checking connections: {e}\")\n",
        "\n"
      ],
      "metadata": {
        "colab": {
          "base_uri": "https://localhost:8080/"
        },
        "id": "Kiq_Brk8nk9O",
        "outputId": "97993ec8-927e-4883-be95-72f1132e4dad"
      },
      "execution_count": 49,
      "outputs": [
        {
          "output_type": "stream",
          "name": "stdout",
          "text": [
            "NEST is initialized and working correctly.\n",
            "Number of excitatory neurons: 40\n",
            "Number of inhibitory neurons: 10\n",
            "Number of connections between nodes in 'layer': 15042\n"
          ]
        }
      ]
    }
  ]
}