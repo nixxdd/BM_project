{
  "cells": [
    {
      "cell_type": "code",
      "execution_count": null,
      "metadata": {
        "id": "VdB_vu4V9Qbu"
      },
      "outputs": [],
      "source": [
        "import matplotlib.pyplot\n",
        "import nest\n",
        "import numpy as np"
      ]
    },
    {
      "cell_type": "code",
      "execution_count": null,
      "metadata": {},
      "outputs": [],
      "source": [
        "#!python3 /content/run_microcircuit.py"
      ]
    },
    {
      "cell_type": "code",
      "execution_count": null,
      "metadata": {
        "colab": {
          "base_uri": "https://localhost:8080/"
        },
        "id": "91kiTj_WJuZg",
        "outputId": "1d548325-4aa9-4691-b182-51ee61dc55a1"
      },
      "outputs": [
        {
          "name": "stdout",
          "output_type": "stream",
          "text": [
            "Tabella dei neuroni:\n",
            "  Popolazione  Numero di neuroni\n",
            "0         L4E              21915\n",
            "1         L4I               5479\n",
            "\n",
            "Tabella delle connessioni:\n",
            "  Connessione  Numero di connessioni\n",
            "0  L4E -> L4E               23869281\n",
            "1  L4E -> L4I               16209758\n",
            "2  L4I -> L4E                9533739\n",
            "3  L4I -> L4I                4794104\n"
          ]
        }
      ],
      "source": [
        "import pandas as pd\n",
        "import numpy as np\n",
        "\n",
        "# Dati estratti dal file network_params.py\n",
        "# Popolazioni e numero di neuroni\n",
        "popolazioni = [\"L4E\", \"L4I\"]\n",
        "num_neuroni = np.array([21915, 5479])  # Numero di neuroni per L4E e L4I\n",
        "\n",
        "# Probabilità di connessione tra le popolazioni (L4E -> L4E, L4E -> L4I, L4I -> L4E, L4I -> L4I)\n",
        "conn_probs = np.array(\n",
        "    [\n",
        "        [0.0497, 0.135],  # L4E to L4E and L4I\n",
        "        [0.0794, 0.1597],  # L4I to L4E and L4I\n",
        "    ]\n",
        ")\n",
        "\n",
        "# Calcolare il numero di connessioni\n",
        "def calcola_connessioni(num_neuroni, conn_probs):\n",
        "    num_connessioni = {}\n",
        "\n",
        "    # Connessioni L4E -> L4E\n",
        "    num_connessioni[\"L4E -> L4E\"] = int(num_neuroni[0] * num_neuroni[0] * conn_probs[0, 0])\n",
        "\n",
        "    # Connessioni L4E -> L4I\n",
        "    num_connessioni[\"L4E -> L4I\"] = int(num_neuroni[0] * num_neuroni[1] * conn_probs[0, 1])\n",
        "\n",
        "    # Connessioni L4I -> L4E\n",
        "    num_connessioni[\"L4I -> L4E\"] = int(num_neuroni[1] * num_neuroni[0] * conn_probs[1, 0])\n",
        "\n",
        "    # Connessioni L4I -> L4I\n",
        "    num_connessioni[\"L4I -> L4I\"] = int(num_neuroni[1] * num_neuroni[1] * conn_probs[1, 1])\n",
        "\n",
        "    return num_connessioni\n",
        "\n",
        "# Calcolare le connessioni\n",
        "num_connessioni = calcola_connessioni(num_neuroni, conn_probs)\n",
        "\n",
        "# Creare la tabella dei neuroni\n",
        "tabella_neuroni = pd.DataFrame({\n",
        "    \"Popolazione\": popolazioni,\n",
        "    \"Numero di neuroni\": num_neuroni\n",
        "})\n",
        "\n",
        "# Creare la tabella delle connessioni\n",
        "tabella_connessioni = pd.DataFrame({\n",
        "    \"Connessione\": [\"L4E -> L4E\", \"L4E -> L4I\", \"L4I -> L4E\", \"L4I -> L4I\"],\n",
        "    \"Numero di connessioni\": [\n",
        "        num_connessioni[\"L4E -> L4E\"],\n",
        "        num_connessioni[\"L4E -> L4I\"],\n",
        "        num_connessioni[\"L4I -> L4E\"],\n",
        "        num_connessioni[\"L4I -> L4I\"]\n",
        "    ]\n",
        "})\n",
        "\n",
        "# Mostrare le tabelle\n",
        "print(\"Tabella dei neuroni:\")\n",
        "print(tabella_neuroni)\n",
        "\n",
        "print(\"\\nTabella delle connessioni:\")\n",
        "print(tabella_connessioni)\n",
        "\n",
        "\n"
      ]
    }
  ],
  "metadata": {
    "colab": {
      "provenance": []
    },
    "kernelspec": {
      "display_name": "Python 3",
      "name": "python3"
    },
    "language_info": {
      "name": "python"
    }
  },
  "nbformat": 4,
  "nbformat_minor": 0
}
